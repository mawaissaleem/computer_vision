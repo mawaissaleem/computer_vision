{
 "cells": [
  {
   "cell_type": "code",
   "execution_count": 1,
   "metadata": {},
   "outputs": [],
   "source": [
    "import cv2\n",
    "import numpy as np"
   ]
  },
  {
   "cell_type": "code",
   "execution_count": 2,
   "metadata": {},
   "outputs": [],
   "source": [
    "img = cv2.imread('aamon.jpg')"
   ]
  },
  {
   "cell_type": "code",
   "execution_count": 3,
   "metadata": {},
   "outputs": [],
   "source": [
    "# for translation\n",
    "tx, ty = 200, 50\n",
    "translation_matrix = np.float32([[1, 0, tx], [0, 1, ty]])"
   ]
  },
  {
   "cell_type": "code",
   "execution_count": 4,
   "metadata": {},
   "outputs": [],
   "source": [
    "# for Euclidean transformation\n",
    "angle = 45\n",
    "euclidean_matrix = cv2.getRotationMatrix2D((img.shape[1]//2, img.shape[0]//2), angle, 1)\n",
    "euclidean_matrix[0, 2] += tx\n",
    "euclidean_matrix[1, 2] += ty\n"
   ]
  },
  {
   "cell_type": "code",
   "execution_count": 5,
   "metadata": {},
   "outputs": [],
   "source": [
    "# for Similarity transformation\n",
    "scale = 0.75\n",
    "similarity_matrix = np.float32([[scale, -scale, 0], [scale, scale, 0]])"
   ]
  },
  {
   "cell_type": "code",
   "execution_count": 6,
   "metadata": {},
   "outputs": [],
   "source": [
    "# for Affine transformation\n",
    "input_pts = np.float32([[100, 50], [300, 50], [100, 500]])\n",
    "output_pts = np.float32([[10, 100], [200, 50], [100, 250]])\n",
    "affine_matrix = cv2.getAffineTransform(input_pts, output_pts)"
   ]
  },
  {
   "cell_type": "code",
   "execution_count": 7,
   "metadata": {},
   "outputs": [],
   "source": [
    "# for Projective transformation\n",
    "input_pts = np.float32([[0, 0], [200, 0], [0, 500], [200, 500]])\n",
    "output_pts = np.float32([[23, 320], [100, 50], [10, 300], [370, 532]])\n",
    "projective_matrix = cv2.getPerspectiveTransform(input_pts, output_pts)\n"
   ]
  },
  {
   "cell_type": "code",
   "execution_count": 8,
   "metadata": {},
   "outputs": [],
   "source": [
    "# Performing transformations\n",
    "translated_img = cv2.warpAffine(img, translation_matrix, (img.shape[1], img.shape[0]))\n",
    "euclidean_img = cv2.warpAffine(img, euclidean_matrix, (img.shape[1], img.shape[0]))\n",
    "similarity_img = cv2.warpAffine(img, similarity_matrix, (img.shape[1], img.shape[0]))\n",
    "affine_img = cv2.warpAffine(img, affine_matrix, (img.shape[1], img.shape[0]))\n",
    "projective_img = cv2.warpPerspective(img, projective_matrix, (img.shape[1], img.shape[0]))"
   ]
  },
  {
   "cell_type": "code",
   "execution_count": 9,
   "metadata": {},
   "outputs": [],
   "source": [
    "# Displaying all images\n",
    "cv2.imshow('Original Image', img)\n",
    "cv2.imshow('Translated Image', translated_img)\n",
    "cv2.imshow('Euclidean Image', euclidean_img)\n",
    "cv2.imshow('Similarity Image', similarity_img)\n",
    "cv2.imshow('Affine Image', affine_img)\n",
    "cv2.imshow('Projective Image', projective_img)\n",
    "cv2.waitKey(0)\n",
    "cv2.destroyAllWindows()"
   ]
  },
  {
   "cell_type": "code",
   "execution_count": null,
   "metadata": {},
   "outputs": [],
   "source": []
  }
 ],
 "metadata": {
  "kernelspec": {
   "display_name": "Python 3 (ipykernel)",
   "language": "python",
   "name": "python3"
  },
  "language_info": {
   "codemirror_mode": {
    "name": "ipython",
    "version": 3
   },
   "file_extension": ".py",
   "mimetype": "text/x-python",
   "name": "python",
   "nbconvert_exporter": "python",
   "pygments_lexer": "ipython3",
   "version": "3.10.5"
  },
  "vscode": {
   "interpreter": {
    "hash": "8c46ac5aaab4d3c9f2f9be91c3b9b95f2b8ede1f4aae554ca1e34eefcba1468b"
   }
  }
 },
 "nbformat": 4,
 "nbformat_minor": 2
}
