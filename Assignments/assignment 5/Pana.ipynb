{
 "cells": [
  {
   "cell_type": "code",
   "execution_count": 1,
   "id": "f3d94c3d",
   "metadata": {},
   "outputs": [],
   "source": [
    "import cv2\n",
    "import numpy as np"
   ]
  },
  {
   "cell_type": "code",
   "execution_count": 2,
   "id": "a665eabd",
   "metadata": {},
   "outputs": [
    {
     "name": "stdout",
     "output_type": "stream",
     "text": [
      "Your Panorama is ready!!!\n"
     ]
    }
   ],
   "source": [
    "\n",
    "img_1 = cv2.imread(\"pana1.jpeg\")\n",
    "img_2 = cv2.imread(\"pana2.jpeg\")\n",
    "\n",
    "imgs = []\n",
    "\n",
    "imgs.append(cv2.imread(\"pana1.jpeg\"))\n",
    "imgs.append(cv2.imread(\"pana2.jpeg\"))\n",
    "stitchy=cv2.Stitcher.create()\n",
    "(dummy,output)=stitchy.stitch(imgs)\n",
    "  \n",
    "if dummy != cv2.STITCHER_OK:\n",
    "  \n",
    "    print(\"stitching unsuccessful\")\n",
    "else: \n",
    "    print('Your Panorama is ready!!!')\n",
    "  \n",
    "\n",
    "cv2.imshow('final result',output)\n",
    "\n",
    "\n",
    "cv2.imshow(\"first image\", img_1)\n",
    "cv2.imshow(\"second image\", img_2)\n",
    "cv2.waitKey(0)\n",
    "cv2.destroyAllWindows()"
   ]
  },
  {
   "cell_type": "code",
   "execution_count": null,
   "id": "e221cc7f",
   "metadata": {},
   "outputs": [],
   "source": []
  }
 ],
 "metadata": {
  "kernelspec": {
   "display_name": "Python 3 (ipykernel)",
   "language": "python",
   "name": "python3"
  },
  "language_info": {
   "codemirror_mode": {
    "name": "ipython",
    "version": 3
   },
   "file_extension": ".py",
   "mimetype": "text/x-python",
   "name": "python",
   "nbconvert_exporter": "python",
   "pygments_lexer": "ipython3",
   "version": "3.10.5"
  }
 },
 "nbformat": 4,
 "nbformat_minor": 5
}
