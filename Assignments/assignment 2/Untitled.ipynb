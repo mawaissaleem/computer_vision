{
 "cells": [
  {
   "cell_type": "code",
   "execution_count": 19,
   "id": "12e6b4f8",
   "metadata": {},
   "outputs": [],
   "source": [
    "import cv2\n",
    "import numpy as np\n",
    "import math\n",
    "\n",
    "# Load the image\n",
    "img = cv2.imread('image.jpeg')\n",
    "# img = cv2.flip(img,1)\n",
    "# Convert the image to grayscale\n",
    "gray = cv2.cvtColor(img, cv2.COLOR_BGR2GRAY)\n",
    "hough = cv2.cvtColor(img, cv2.COLOR_BGR2GRAY)\n",
    "\n",
    "# Detect edges\n",
    "edges = cv2.Canny(gray, 50, 150)\n",
    "\n",
    "# Detect lines\n",
    "# lines = cv2.HoughLines(edges, 1, np.pi/180 , 120, None, 50, 10,min_theta=0.349066, max_theta=2.79253)\n",
    "lines = cv2.HoughLines(edges, 1, np.pi/120 , 115, min_theta=np.pi/36, max_theta=np.pi-np.pi/36)\n",
    "# print(lines)\n",
    "\n",
    "if lines is not None:\n",
    "        for i in range(0, len(lines)):\n",
    "            rho = lines[i][0][0]\n",
    "            theta = lines[i][0][1]\n",
    "            a = math.cos(theta)\n",
    "            b = math.sin(theta)\n",
    "            x0 = a * rho\n",
    "            y0 = b * rho\n",
    "            pt1 = (int(x0 + 10000*(-b)), int(y0 + 10000*(a)))\n",
    "            pt2 = (int(x0 - 10000*(-b)), int(y0 - 10000*(a)))\n",
    "#             if pt1[0] != pt2[0] and pt1[1] != pt2[1] and abs(pt1[0] - pt2[0]) > 150 and abs(pt1[1] - pt2[1]) > 150:\n",
    "#                 cv2.line(hough, pt1, pt2, (0,0,255), 1, cv2.LINE_AA)\n",
    "            cv2.line(hough, pt1, pt2, (0,0,255), 1, cv2.LINE_AA)\n",
    "\n",
    "\n",
    "# Show the image\n",
    "# cv2.imshow('image', img)\n",
    "# cv2.imshow('edge', edges)\n",
    "cv2.imshow('hough', hough)\n",
    "cv2.waitKey(0)\n",
    "cv2.destroyAllWindows()\n"
   ]
  },
  {
   "cell_type": "code",
   "execution_count": null,
   "id": "d6d4910a",
   "metadata": {},
   "outputs": [],
   "source": []
  },
  {
   "cell_type": "code",
   "execution_count": null,
   "id": "6a90805f",
   "metadata": {},
   "outputs": [],
   "source": []
  }
 ],
 "metadata": {
  "kernelspec": {
   "display_name": "Python 3 (ipykernel)",
   "language": "python",
   "name": "python3"
  },
  "language_info": {
   "codemirror_mode": {
    "name": "ipython",
    "version": 3
   },
   "file_extension": ".py",
   "mimetype": "text/x-python",
   "name": "python",
   "nbconvert_exporter": "python",
   "pygments_lexer": "ipython3",
   "version": "3.10.5"
  }
 },
 "nbformat": 4,
 "nbformat_minor": 5
}
